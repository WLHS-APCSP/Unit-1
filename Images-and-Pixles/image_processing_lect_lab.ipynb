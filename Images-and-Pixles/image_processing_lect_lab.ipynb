{
 "cells": [
  {
   "cell_type": "markdown",
   "metadata": {},
   "source": [
    "# Images and Their Pixels Lab\n"
   ]
  },
  {
   "cell_type": "code",
   "metadata": {
    "ExecuteTime": {
     "end_time": "2024-08-19T02:00:03.673232Z",
     "start_time": "2024-08-19T02:00:03.337838Z"
    }
   },
   "source": [
    "# run this to import numpy and matplotlib\n",
    "import numpy as np\n",
    "import matplotlib.pyplot as plt\n"
   ],
   "outputs": [],
   "execution_count": 1
  },
  {
   "cell_type": "markdown",
   "metadata": {},
   "source": [
    "#### Create a numpy array representing an RGB image shown below. The dimensions are 100 pixels by 100 pixels. Hint: Use np.zeros(shape_tuple, dtype=\"uint8\").\n",
    "\n",
    "#### You'll need to use slicing to initialize your array. For example: array[: ,: ,0] = 255 would set the Red component of all pixels to its maximum value of 255. \n",
    "\n",
    "#### Then use the following code to plot this image.\n",
    "\n",
    "```python\n",
    "fig, ax = plt.subplots()\n",
    "ax.imshow(my_image)\n",
    "```"
   ]
  },
  {
   "metadata": {
    "ExecuteTime": {
     "end_time": "2024-08-19T02:11:08.014407Z",
     "start_time": "2024-08-19T02:11:07.946269Z"
    }
   },
   "cell_type": "code",
   "source": [
    "my_image = np.zeros((100,100,3),dtype=\"uint8\")\n",
    "my_image[:,:,0]=255\n",
    "fig, ax = plt.subplots()\n",
    "ax.imshow(my_image)"
   ],
   "outputs": [
    {
     "data": {
      "text/plain": [
       "<matplotlib.image.AxesImage at 0x1553fcc50>"
      ]
     },
     "execution_count": 11,
     "metadata": {},
     "output_type": "execute_result"
    },
    {
     "data": {
      "text/plain": [
       "<Figure size 640x480 with 1 Axes>"
      ],
      "image/png": "[encoded data removed]"
     },
     "metadata": {},
     "output_type": "display_data"
    }
   ],
   "execution_count": 11
  },
  {
   "cell_type": "markdown",
   "metadata": {},
   "source": "![alt text](/Users/brandon/Documents/GitHub/2024-2025/APCSP/Unit1/ImagesAndPixels/Images-and-Pixles/img/pattern.png)"
  },
  {
   "cell_type": "code",
   "execution_count": null,
   "metadata": {},
   "outputs": [],
   "source": []
  },
  {
   "cell_type": "markdown",
   "metadata": {},
   "source": [
    "Use the code below to read in an image. The filename is \"sunflower.png\".\n",
    "\n",
    "```python\n",
    "flower = plt.imread(filename_str)\n",
    "```\n",
    "\n",
    "Then use the code below to plot this image.\n",
    "\n",
    "```python\n",
    "fig, ax = plt.subplots()\n",
    "ax.imshow(flower)\n",
    "```"
   ]
  },
  {
   "cell_type": "code",
   "execution_count": null,
   "metadata": {},
   "outputs": [],
   "source": []
  },
  {
   "cell_type": "markdown",
   "metadata": {},
   "source": [
    "#### What is the width and height of the image? The type of data? (img.dtype)."
   ]
  },
  {
   "cell_type": "code",
   "execution_count": null,
   "metadata": {},
   "outputs": [],
   "source": []
  },
  {
   "cell_type": "markdown",
   "metadata": {},
   "source": [
    "#### Print out any pixel. Note that the pixel values are 32-bit floats in the range [0.0, 1.0]."
   ]
  },
  {
   "cell_type": "code",
   "execution_count": null,
   "metadata": {},
   "outputs": [],
   "source": []
  },
  {
   "cell_type": "markdown",
   "metadata": {},
   "source": [
    "#### Estimate the location of a yellow petal pixel and print out its RGB components. You should see high red(close to 1.0) and green and low blue(close to 0.0). "
   ]
  },
  {
   "cell_type": "code",
   "execution_count": null,
   "metadata": {},
   "outputs": [],
   "source": []
  },
  {
   "cell_type": "markdown",
   "metadata": {},
   "source": [
    "#### Use slicing to create a new img(numpy array) consists of the top left quarter of the image. Display this new image. "
   ]
  },
  {
   "cell_type": "code",
   "execution_count": null,
   "metadata": {},
   "outputs": [],
   "source": []
  },
  {
   "cell_type": "markdown",
   "metadata": {},
   "source": [
    "#### Use slicing to crop out only the sunflower, removing all of the background. Try to get as close as possible. Display the new image. "
   ]
  },
  {
   "cell_type": "code",
   "execution_count": null,
   "metadata": {},
   "outputs": [],
   "source": []
  },
  {
   "cell_type": "markdown",
   "metadata": {},
   "source": [
    "#### Use the average method to convert the sunflower to grayscale. When display the image, use the keyword argument cmap=\"gray\" in imshow() to specify the grayscale colormap."
   ]
  },
  {
   "cell_type": "code",
   "execution_count": null,
   "metadata": {},
   "outputs": [],
   "source": []
  },
  {
   "cell_type": "markdown",
   "metadata": {},
   "source": [
    "#### Use the luminosity method to create the grayscale image. "
   ]
  },
  {
   "cell_type": "code",
   "execution_count": null,
   "metadata": {},
   "outputs": [],
   "source": []
  },
  {
   "cell_type": "markdown",
   "metadata": {},
   "source": [
    "#### To tint an image is to mix its colors with white. This will increase the lightness of the image. Write a Python function, which takes an image and a percentage value as a parameter. Setting 'percentage' to 0 will not change the image, setting it to one means that the image will be completely whitened.\n",
    "\n",
    "#### For example, suppose a pixel with RGB components of [0.80, 0.60, 0.40]. Tinting it by 25% means that the pixel is now [0.85, 0.70, 0.55]. \n",
    "\n",
    "#### Hint: Use np.ones(shape). The formula for one pixel in the above example is:\n",
    "\n",
    "tinted_pixel = [0.80, 0.60, 0.40] + ([1.0, 1.0, 1.0] - [0.80, 0.60, 0.40]) * 0.25"
   ]
  },
  {
   "cell_type": "code",
   "execution_count": null,
   "metadata": {},
   "outputs": [],
   "source": [
    "def tint(image, percent):\n",
    "    \"\"\"\n",
    "    imag: the image which will be tinted\n",
    "    percent: a value between 0 (image will remain unchanged\n",
    "             and 1 (image will completely white)\n",
    "    Formula: tinted_image = image + (ones_matrix - image) * percent \n",
    "    where ones_matrix is matrix of all ones with the same shape as \n",
    "    the given image. Use np.ones(shape). \n",
    "    \"\"\"\n",
    "    # just add one line of code.\n",
    "\n",
    "    return tinted_image\n"
   ]
  },
  {
   "cell_type": "code",
   "execution_count": null,
   "metadata": {},
   "outputs": [],
   "source": []
  },
  {
   "cell_type": "markdown",
   "metadata": {},
   "source": [
    "#### If your tint() function is written correctly above, run the code below to see the tinting at three different levels: 20%, 40%, 80%. Play around with different tint levels. "
   ]
  },
  {
   "cell_type": "code",
   "execution_count": null,
   "metadata": {
    "scrolled": true
   },
   "outputs": [],
   "source": [
    "fig, axs = plt.subplots(nrows=1, ncols=3, figsize=(15,5))\n",
    "tinted_10 = tint(img, 0.20)\n",
    "tinted_40 = tint(img, 0.40)\n",
    "tinted_80 = tint(img, 0.80)\n",
    "axs[0].imshow(tinted_10)\n",
    "axs[0].set_title(\"Tinted 20%\")\n",
    "axs[1].imshow(tinted_40)\n",
    "axs[1].set_title(\"Tinted 40%\")\n",
    "axs[2].imshow(tinted_80)\n",
    "axs[2].set_title(\"Tinted 80%\")\n"
   ]
  },
  {
   "cell_type": "code",
   "execution_count": null,
   "metadata": {},
   "outputs": [],
   "source": []
  }
 ],
 "metadata": {
  "kernelspec": {
   "display_name": "Python 3 (ipykernel)",
   "language": "python",
   "name": "python3"
  },
  "language_info": {
   "codemirror_mode": {
    "name": "ipython",
    "version": 3
   },
   "file_extension": ".py",
   "mimetype": "text/x-python",
   "name": "python",
   "nbconvert_exporter": "python",
   "pygments_lexer": "ipython3",
   "version": "3.10.14"
  }
 },
 "nbformat": 4,
 "nbformat_minor": 4
}
